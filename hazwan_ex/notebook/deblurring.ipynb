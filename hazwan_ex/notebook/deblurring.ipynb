{
 "cells": [
  {
   "cell_type": "code",
   "execution_count": null,
   "metadata": {},
   "outputs": [],
   "source": [
    "%matplotlib inline"
   ]
  },
  {
   "cell_type": "markdown",
   "metadata": {},
   "source": [
    "\n",
    "# 05. Image deblurring\n",
    "*Deblurring* is the process of removing blurring effects from images, caused for\n",
    "example by defocus aberration or motion blur.\n",
    "\n",
    "In forward mode, such blurring effect is typically modelled as a 2-dimensional\n",
    "convolution between the so-called *point spread function* and a target\n",
    "sharp input image, where the sharp input image (which has to be recovered) is\n",
    "unknown and the point-spread function can be either known or unknown.\n",
    "\n",
    "In this tutorial, an example of 2d blurring and deblurring will be shown using\n",
    "the :py:class:`pylops.signalprocessing.Convolve2D` operator assuming knowledge\n",
    "of the point-spread function.\n",
    "\n"
   ]
  },
  {
   "cell_type": "code",
   "execution_count": null,
   "metadata": {},
   "outputs": [],
   "source": [
    "import numpy as np\n",
    "import matplotlib.pyplot as plt\n",
    "import pylops"
   ]
  },
  {
   "cell_type": "markdown",
   "metadata": {},
   "source": [
    "Let's start by importing a 2d image and defining the blurring operator\n",
    "\n"
   ]
  },
  {
   "cell_type": "code",
   "execution_count": null,
   "metadata": {},
   "outputs": [],
   "source": [
    "im = np.load('../testdata/python.npy')[::5, ::5, 0]\n",
    "\n",
    "Nz, Nx = im.shape\n",
    "\n",
    "# Blurring guassian operator\n",
    "nh = [15, 25]\n",
    "hz = np.exp(-0.1*np.linspace(-(nh[0]//2), nh[0]//2, nh[0])**2)\n",
    "hx = np.exp(-0.03*np.linspace(-(nh[1]//2), nh[1]//2, nh[1])**2)\n",
    "hz /= np.trapz(hz) # normalize the integral to 1\n",
    "hx /= np.trapz(hx) # normalize the integral to 1\n",
    "h = hz[:, np.newaxis] * hx[np.newaxis, :]\n",
    "\n",
    "fig, ax = plt.subplots(1, 1, figsize=(5, 3))\n",
    "him = ax.imshow(h)\n",
    "ax.set_title('Blurring operator')\n",
    "fig.colorbar(him, ax=ax)\n",
    "ax.axis('tight')\n",
    "\n",
    "Cop = pylops.signalprocessing.Convolve2D(Nz * Nx, h=h,\n",
    "                                         offset=(nh[0] // 2,\n",
    "                                                 nh[1] // 2),\n",
    "                                         dims=(Nz, Nx), dtype='float32')"
   ]
  },
  {
   "cell_type": "markdown",
   "metadata": {},
   "source": [
    "We first apply the blurring operator to the sharp image. We then\n",
    "try to recover the sharp input image by inverting the convolution operator\n",
    "from the blurred image. Note that when we perform inversion without any\n",
    "regularization, the deblurred image will show some ringing due to the\n",
    "instabilities of the inverse process. Using a L1 solver with a DWT\n",
    "preconditioner or TV regularization allows to recover sharper contrasts.\n",
    "\n"
   ]
  },
  {
   "cell_type": "code",
   "execution_count": null,
   "metadata": {},
   "outputs": [],
   "source": [
    "imblur = Cop * im.flatten()\n",
    "\n",
    "imdeblur = \\\n",
    "    pylops.optimization.leastsquares.NormalEquationsInversion(Cop, None,\n",
    "                                                              imblur,\n",
    "                                                              maxiter=50)\n",
    "\n",
    "Wop = pylops.signalprocessing.DWT2D((Nz, Nx), wavelet='haar', level=3)\n",
    "Dop = [pylops.FirstDerivative(Nz * Nx, dims=(Nz, Nx), dir=0, edge=False),\n",
    "       pylops.FirstDerivative(Nz * Nx, dims=(Nz, Nx), dir=1, edge=False)]\n",
    "DWop = Dop + [Wop, ]\n",
    "\n",
    "imdeblurfista = \\\n",
    "    pylops.optimization.sparsity.FISTA(Cop * Wop.H, imblur, eps=1e-1,\n",
    "                                       niter=100)[0]\n",
    "imdeblurfista = Wop.H * imdeblurfista\n",
    "\n",
    "imdeblurtv = \\\n",
    "    pylops.optimization.sparsity.SplitBregman(Cop, Dop, imblur.flatten(),\n",
    "                                              niter_outer=10, niter_inner=5,\n",
    "                                              mu=1.5, epsRL1s=[2e0, 2e0],\n",
    "                                              tol=1e-4, tau=1., show=False,\n",
    "                                              ** dict(iter_lim=5, damp=1e-4))[0]\n",
    "\n",
    "imdeblurtv1 = \\\n",
    "    pylops.optimization.sparsity.SplitBregman(Cop, DWop,\n",
    "                                              imblur.flatten(),\n",
    "                                              niter_outer=10, niter_inner=5,\n",
    "                                              mu=1.5, epsRL1s=[1e0, 1e0, 1e0],\n",
    "                                              tol=1e-4, tau=1., show=False,\n",
    "                                              ** dict(iter_lim=5, damp=1e-4))[0]\n",
    "\n",
    "# Reshape images\n",
    "imblur = imblur.reshape((Nz, Nx))\n",
    "imdeblur = imdeblur.reshape((Nz, Nx))\n",
    "imdeblurfista = imdeblurfista.reshape((Nz, Nx))\n",
    "imdeblurtv = imdeblurtv.reshape((Nz, Nx))\n",
    "imdeblurtv1 = imdeblurtv1.reshape((Nz, Nx))"
   ]
  },
  {
   "cell_type": "markdown",
   "metadata": {},
   "source": [
    "Finally we visualize the original, blurred, and recovered images.\n",
    "\n"
   ]
  },
  {
   "cell_type": "code",
   "execution_count": null,
   "metadata": {},
   "outputs": [],
   "source": [
    "# sphinx_gallery_thumbnail_number = 2\n",
    "fig = plt.figure(figsize=(12, 6))\n",
    "fig.suptitle('Deblurring', fontsize=14, fontweight='bold', y=0.95)\n",
    "ax1 = plt.subplot2grid((2, 5), (0, 0))\n",
    "ax2 = plt.subplot2grid((2, 5), (0, 1))\n",
    "ax3 = plt.subplot2grid((2, 5), (0, 2))\n",
    "ax4 = plt.subplot2grid((2, 5), (1, 0))\n",
    "ax5 = plt.subplot2grid((2, 5), (1, 1))\n",
    "ax6 = plt.subplot2grid((2, 5), (1, 2))\n",
    "ax7 = plt.subplot2grid((2, 5), (0, 3), colspan=2)\n",
    "ax8 = plt.subplot2grid((2, 5), (1, 3), colspan=2)\n",
    "ax1.imshow(im, cmap='viridis', vmin=0, vmax=250)\n",
    "ax1.axis('tight')\n",
    "ax1.set_title('Original')\n",
    "ax2.imshow(imblur, cmap='viridis', vmin=0, vmax=250)\n",
    "ax2.axis('tight')\n",
    "ax2.set_title('Blurred')\n",
    "ax3.imshow(imdeblur, cmap='viridis', vmin=0, vmax=250)\n",
    "ax3.axis('tight')\n",
    "ax3.set_title('Deblurred')\n",
    "ax4.imshow(imdeblurfista, cmap='viridis', vmin=0, vmax=250)\n",
    "ax4.axis('tight')\n",
    "ax4.set_title('FISTA deblurred')\n",
    "ax5.imshow(imdeblurtv, cmap='viridis', vmin=0, vmax=250)\n",
    "ax5.axis('tight')\n",
    "ax5.set_title('TV deblurred')\n",
    "ax6.imshow(imdeblurtv1, cmap='viridis', vmin=0, vmax=250)\n",
    "ax6.axis('tight')\n",
    "ax6.set_title('TV+Haar deblurred')\n",
    "ax7.plot(im[Nz//2], 'k')\n",
    "ax7.plot(imblur[Nz//2], '--r')\n",
    "ax7.plot(imdeblur[Nz//2], '--b')\n",
    "ax7.plot(imdeblurfista[Nz//2], '--g')\n",
    "ax7.plot(imdeblurtv[Nz//2], '--m')\n",
    "ax7.plot(imdeblurtv1[Nz//2], '--y')\n",
    "ax7.axis('tight')\n",
    "ax7.set_title('Horizontal section')\n",
    "ax8.plot(im[:, Nx//2], 'k', label='Original')\n",
    "ax8.plot(imblur[:, Nx//2], '--r', label='Blurred')\n",
    "ax8.plot(imdeblur[:, Nx//2], '--b', label='Deblurred')\n",
    "ax8.plot(imdeblurfista[:, Nx//2], '--g', label='FISTA deblurred')\n",
    "ax8.plot(imdeblurtv[:, Nx//2], '--m', label='TV deblurred')\n",
    "ax8.plot(imdeblurtv1[:, Nx//2], '--y', label='TV+Haar deblurred')\n",
    "ax8.axis('tight')\n",
    "ax8.set_title('Vertical section')\n",
    "ax8.legend(loc=5, fontsize='small')\n",
    "plt.tight_layout()\n",
    "plt.subplots_adjust(top=0.8)"
   ]
  }
 ],
 "metadata": {
  "kernelspec": {
   "display_name": "Python 3",
   "language": "python",
   "name": "python3"
  },
  "language_info": {
   "codemirror_mode": {
    "name": "ipython",
    "version": 3
   },
   "file_extension": ".py",
   "mimetype": "text/x-python",
   "name": "python",
   "nbconvert_exporter": "python",
   "pygments_lexer": "ipython3",
   "version": "3.8.5"
  }
 },
 "nbformat": 4,
 "nbformat_minor": 1
}
